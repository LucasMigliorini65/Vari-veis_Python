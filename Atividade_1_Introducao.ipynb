{
  "nbformat": 4,
  "nbformat_minor": 0,
  "metadata": {
    "colab": {
      "provenance": [],
      "include_colab_link": true
    },
    "kernelspec": {
      "name": "python3",
      "display_name": "Python 3"
    },
    "language_info": {
      "name": "python"
    }
  },
  "cells": [
    {
      "cell_type": "markdown",
      "metadata": {
        "id": "view-in-github",
        "colab_type": "text"
      },
      "source": [
        "<a href=\"https://colab.research.google.com/github/LucasMigliorini65/Vari-veis_Python/blob/main/Atividade_1_Introducao.ipynb\" target=\"_parent\"><img src=\"https://colab.research.google.com/assets/colab-badge.svg\" alt=\"Open In Colab\"/></a>"
      ]
    },
    {
      "cell_type": "markdown",
      "metadata": {
        "id": "1CPY8j3Lz8TK"
      },
      "source": [
        "### Processamento da Informação - Raphael Y. de Camargo - 2024.1\n",
        "\n",
        "## Lista 1 - Fazer antes da aula de 15/06\n",
        "\n",
        "Nesta lista iremos utilizar o Python como uma calculadora, seguindo a lógica de algoritmos sequenciais.\n",
        "\n",
        "No Python, temos as seguintes operações:\n",
        "\n",
        "```\n",
        "+ (soma), - (subtração), * (multiplicação), / (divisão) e ** (exponencial).\n",
        "```\n",
        "\n",
        "---\n",
        "\n",
        "As operações seguem a mesma ordem do que estamos acostumados na matemática:\n",
        "\n",
        "\n",
        "\n",
        "```\n",
        "**   >   *, /   >   +, -\n",
        "```\n",
        "\n",
        "\n",
        "\n",
        "Além disso, podemos usar os parênteses para indicar precedência de operações. Exemplo:\n",
        "\n",
        "\n",
        "\n",
        "```\n",
        "(5 + 3) * 10\n",
        "```\n",
        "\n",
        "---\n",
        "\n",
        "***Importante:*** *Além desta lista existem outros exercícios para serem feitos na seção 'Sequencial' da aba BCM0505-15SA/SB - Processamento da Informação - EPs - 2022.2, onde vocês foram também adicionados.*\n"
      ]
    },
    {
      "cell_type": "markdown",
      "metadata": {
        "id": "sCbhW_qkWVUi"
      },
      "source": [
        "### Exercício 1:\n",
        "\n",
        "Escreva um código que calcula e imprime o valor das seguintes equações usando o Python e armazena nas variáveis indicadas. A variável x é definida anteriormente.\n",
        "\n",
        "$$ a ← x \\times 17 $$\n",
        "\n",
        "$$ b ← \\frac{x \\times 17 + 13}{5} $$\n",
        "\n",
        "$$ c ← x^5 $$\n",
        "\n",
        "$$ d ← \\frac{x \\times 5^7}{250} $$\n"
      ]
    },
    {
      "cell_type": "code",
      "source": [
        "### Execute esta célula primeiro\n",
        "x = 3"
      ],
      "metadata": {
        "id": "bNBmir1ILcTt"
      },
      "execution_count": null,
      "outputs": []
    },
    {
      "cell_type": "markdown",
      "source": [
        "Coloque as respostas na célula de código abaixo e imprima seus valores.\n",
        "\n",
        "*Escreva o código entre as marcações*\n",
        "\n",
        "```\n",
        "###!1 Não remova esta linha\n",
        "\n",
        "Coloque seu código aqui\n",
        "\n",
        "###!1 Não remova esta linha\n",
        "```\n",
        "\n",
        "\n",
        "\n",
        "*Não esqueça de armazenar os resultados na variáveis indicadas no enunciado!*"
      ],
      "metadata": {
        "id": "hf2RmHDBIkcd"
      }
    },
    {
      "cell_type": "code",
      "source": [
        "###!1 Não remova esta linha\n",
        "\n",
        "x = 3\n",
        "a = x*17\n",
        "print(a)\n",
        "b = ((x*17)+13)/5\n",
        "print(b)\n",
        "c = x**5\n",
        "print(c)\n",
        "d = (x*(5**7))/250\n",
        "print(d)\n",
        "\n",
        "\n",
        "\n",
        "###!1 Não remova esta linha"
      ],
      "metadata": {
        "id": "1r5VwgrhIjXv",
        "colab": {
          "base_uri": "https://localhost:8080/"
        },
        "outputId": "bca4d3a1-c0c2-49f5-cd43-39305daf7557"
      },
      "execution_count": null,
      "outputs": [
        {
          "output_type": "stream",
          "name": "stdout",
          "text": [
            "51\n",
            "12.8\n",
            "243\n",
            "937.5\n"
          ]
        }
      ]
    },
    {
      "cell_type": "markdown",
      "metadata": {
        "id": "YvnfEUeQYeKX"
      },
      "source": [
        "### Exercício 2:\n",
        "\n",
        "Faremos agora o cálculo com juros compostos. Ao aplicar um valor no banco, você recebe um valor em juros por mês, por exemplo 0.5%. Neste caso, se você tinha 1000 reais no banco, você receberá 5 reais de juros. A conta pode ser feita pela fórmula:\n",
        "\n",
        "1000 * (1 + 0.005).\n",
        "\n",
        "Caso você tenha por dois meses, serão aplicados 0.5% sobre o valor de 1005, o que são os juros compostos. Neste caso, o cálculo ficaria\n",
        "\n",
        "1000 * (1 + 0.005)**2\n",
        "\n",
        "---\n",
        "\n",
        "Escreva o código para calcular e imprimir o resultado para as seguintes questões abaixo:\n",
        "\n",
        "a) Qual o valor que você terá se colocar 1000 reais no banco agora e mantiver por 1 ano, 10 anos e 40 anos?\n",
        "\n",
        "Armazene o resultado nas variaveis *valor1, valor10 e valor40* e imprima seus valores."
      ]
    },
    {
      "cell_type": "code",
      "source": [
        "###!2a Não remova esta linha\n",
        "\n",
        "ano = 12\n",
        "valor1 = 1000 * (1 + 0.005)**ano\n",
        "print(valor1)\n",
        "valor10 = 1000 * (1 + 0.005)**(ano*10)\n",
        "print(valor10)\n",
        "valor40 = 1000 * (1 + 0.005)**(ano*40)\n",
        "print(valor40)\n",
        "\n",
        "\n",
        "\n",
        "###!2a Não remova esta linha"
      ],
      "metadata": {
        "id": "4-7CalYiL7fT",
        "colab": {
          "base_uri": "https://localhost:8080/"
        },
        "outputId": "ade08836-ae8a-4a8d-992a-525a2771f3b5"
      },
      "execution_count": null,
      "outputs": [
        {
          "output_type": "stream",
          "name": "stdout",
          "text": [
            "1061.6778118644984\n",
            "1819.3967340322902\n",
            "10957.453671655105\n"
          ]
        }
      ]
    },
    {
      "cell_type": "markdown",
      "source": [
        "b) Agora suponha que você tem uma dívida de 1000 reais com juros de 1% ou mês. Qual será sua dívida após 1, 10 e 40 anos?\n",
        "\n",
        "Armazene o resultado nas variaveis *divida1, divida10 e divida40* e imprima seus valores."
      ],
      "metadata": {
        "id": "qL-aWvZDLz9M"
      }
    },
    {
      "cell_type": "code",
      "source": [
        "###!2b Não remova esta linha\n",
        "ano = 12\n",
        "divida1 = -1000 * (1 + 0.01)**ano\n",
        "print(divida1)\n",
        "ano = 12\n",
        "divida10 = -1000 * (1 + 0.01)**(ano*10)\n",
        "print(divida10)\n",
        "ano = 12\n",
        "divida40 = -1000 * (1 + 0.01)**(ano*40)\n",
        "print(divida40)\n",
        "\n",
        "\n",
        "###!2b Não remova esta linha"
      ],
      "metadata": {
        "id": "mRBKmpkrL74T",
        "colab": {
          "base_uri": "https://localhost:8080/"
        },
        "outputId": "d20e00dd-e787-4212-f667-3b612cee37fa"
      },
      "execution_count": null,
      "outputs": [
        {
          "output_type": "stream",
          "name": "stdout",
          "text": [
            "-1126.8250301319697\n",
            "-3300.3868945736685\n",
            "-118647.72510251563\n"
          ]
        }
      ]
    },
    {
      "cell_type": "markdown",
      "source": [
        "c) Agora suponha que você tem uma dívida de 1000 reais com juros de 3% ou mês. Qual será sua dívida após 1, 10 e 40 anos?\n",
        "\n",
        "Armazene o resultado nas variaveis *megadivida1, megadivida10 e megadivida40* e imprima seus valores."
      ],
      "metadata": {
        "id": "iVHUpeGDL1Ej"
      }
    },
    {
      "cell_type": "code",
      "source": [
        "###!2c Não remova esta linha\n",
        "ano = 12\n",
        "megadivida1 = -1000 * (1 + 0.03)**ano\n",
        "print(megadivida1)\n",
        "ano = 12\n",
        "megadivida10 = -1000 * (1 + 0.03)**(ano*10)\n",
        "print(megadivida10)\n",
        "ano = 12\n",
        "megadivida40 = -1000 * (1 + 0.03)**(ano*40)\n",
        "print(megadivida40)\n",
        "\n",
        "###!2c Não remova esta linha"
      ],
      "metadata": {
        "id": "ZU0FUjpoLjeV",
        "colab": {
          "base_uri": "https://localhost:8080/"
        },
        "outputId": "749df604-7c55-4673-a056-78a9886e866b"
      },
      "execution_count": null,
      "outputs": [
        {
          "output_type": "stream",
          "name": "stdout",
          "text": [
            "-1425.7608868461793\n",
            "-4.711967396969857e+16\n",
            "-1451669855.0247438\n"
          ]
        }
      ]
    },
    {
      "cell_type": "markdown",
      "metadata": {
        "id": "QRo9QkO0athC"
      },
      "source": [
        "### Exercício 3\n",
        "\n",
        "Faremos agora uma simulação de crescimento populacional.\n",
        "\n",
        "- Suponha que exista um país A tem uma população de 100 milhões de habitantes e a população cresce a uma taxa de 1% ao ano.\n",
        "\n",
        "- Um segundo país B possui uma população de 200 milhões de habitantes e a população cresce a uma taxa de 0.5% ao ano.\n",
        "\n",
        "Escreva um código que calcula e imprime qual será a população de cada país depois de 10, 20, 30 e 40 anos.\n",
        "\n",
        "- Armazene os resultados nas variáveis *paisA10, paisA20, paisA30, paisA40, paisB10, paisB20, paisB30 e paisB40.*\n",
        "\n",
        "- Use valores em milhões. Isto é, o valor 100 armazenado em uma variável equivale a 100 milhões."
      ]
    },
    {
      "cell_type": "code",
      "source": [
        "###!3 Não remova esta linha\n",
        "\n",
        "\n",
        "populacao_A = 100\n",
        "populacao_B = 200\n",
        "\n",
        "\n",
        "taxa_cresc_A = 1\n",
        "taxa_cresc_B = 0.5\n",
        "\n",
        "\n",
        "anos = [10, 20, 30, 40]\n",
        "\n",
        "paisA10 = populacao_A * (1 + taxa_cresc_A / 100) ** anos[0]\n",
        "paisA20 = populacao_A * (1 + taxa_cresc_A / 100) ** anos[1]\n",
        "paisA30 = populacao_A * (1 + taxa_cresc_A / 100) ** anos[2]\n",
        "paisA40 = populacao_A * (1 + taxa_cresc_A / 100) ** anos[3]\n",
        "\n",
        "paisB10 = populacao_B * (1 + taxa_cresc_B / 100) ** anos[0]\n",
        "paisB20 = populacao_B * (1 + taxa_cresc_B / 100) ** anos[1]\n",
        "paisB30 = populacao_B * (1 + taxa_cresc_B / 100) ** anos[2]\n",
        "paisB40 = populacao_B * (1 + taxa_cresc_B / 100) ** anos[3]\n",
        "\n",
        "\n",
        "print(\"População do país A após 10 anos:\", round(paisA10, 2), \"milhões\")\n",
        "print(\"População do país A após 20 anos:\", round(paisA20, 2), \"milhões\")\n",
        "print(\"População do país A após 30 anos:\", round(paisA30, 2), \"milhões\")\n",
        "print(\"População do país A após 40 anos:\", round(paisA40, 2), \"milhões\")\n",
        "\n",
        "print(\"População do país B após 10 anos:\", round(paisB10, 2), \"milhões\")\n",
        "print(\"População do país B após 20 anos:\", round(paisB20, 2), \"milhões\")\n",
        "print(\"População do país B após 30 anos:\", round(paisB30, 2), \"milhões\")\n",
        "print(\"População do país B após 40 anos:\", round(paisB40, 2), \"milhões\")\n",
        "\n",
        "\n",
        "\n",
        "###!3 Não remova esta linha"
      ],
      "metadata": {
        "id": "k7-qtoqKN2sE",
        "colab": {
          "base_uri": "https://localhost:8080/"
        },
        "outputId": "52956885-f079-4ee6-8bab-e0db4938a6fd"
      },
      "execution_count": 3,
      "outputs": [
        {
          "output_type": "stream",
          "name": "stdout",
          "text": [
            "População do país A após 10 anos: 110.46 milhões\n",
            "População do país A após 20 anos: 122.02 milhões\n",
            "População do país A após 30 anos: 134.78 milhões\n",
            "População do país A após 40 anos: 148.89 milhões\n",
            "População do país B após 10 anos: 210.23 milhões\n",
            "População do país B após 20 anos: 220.98 milhões\n",
            "População do país B após 30 anos: 232.28 milhões\n",
            "População do país B após 40 anos: 244.16 milhões\n"
          ]
        }
      ]
    }
  ]
}